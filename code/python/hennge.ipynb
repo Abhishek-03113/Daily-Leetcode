{
 "cells": [
  {
   "cell_type": "code",
   "execution_count": 9,
   "metadata": {},
   "outputs": [],
   "source": [
    "import requests\n",
    "import json \n",
    "\n",
    "data = {\n",
    "  \"github_url\": \"https://gist.github.com/Abhishek-03113/11f713d2efac1d5dda217438675fbbe5\",\n",
    "  \"contact_email\": \"abhishekpawar3113@gmail.com\",\n",
    "  \"solution_language\": \"python\"\n",
    "}"
   ]
  },
  {
   "cell_type": "code",
   "execution_count": 17,
   "metadata": {},
   "outputs": [],
   "source": [
    "import pyotp \n",
    "import time \n",
    "import hashlib\n",
    "import hmac \n",
    "import base64 \n",
    "\n",
    "email = \"abhishekpawar3113@gmail.com\"\n",
    "\n",
    "def get_totp():\n",
    "    secret = email + \"HENNGECHALLENGE003\"\n",
    "    \n",
    "    key = base64.b32encode(secret.encode())\n",
    "    \n",
    "    totp = pyotp.TOTP(key, digits = 10, interval =30, digest=hashlib.sha512)\n",
    "    \n",
    "    return totp.now()\n"
   ]
  },
  {
   "cell_type": "code",
   "execution_count": 18,
   "metadata": {},
   "outputs": [
    {
     "name": "stdout",
     "output_type": "stream",
     "text": [
      "0135709112\n"
     ]
    }
   ],
   "source": [
    "print(get_totp())"
   ]
  },
  {
   "cell_type": "code",
   "execution_count": 19,
   "metadata": {},
   "outputs": [
    {
     "data": {
      "text/plain": [
       "<Response [200]>"
      ]
     },
     "execution_count": 19,
     "metadata": {},
     "output_type": "execute_result"
    }
   ],
   "source": [
    "# sending post request\n",
    "from requests.auth import HTTPBasicAuth\n",
    "url = \"https://api.challenge.hennge.com/challenges/003\" \n",
    "\n",
    "requests.post(url, \n",
    "                headers = {\"Content-type\": \"application/json\"},\n",
    "                data = json.dumps(data),\n",
    "                auth=HTTPBasicAuth(email, get_totp())          \n",
    "              )"
   ]
  },
  {
   "cell_type": "code",
   "execution_count": null,
   "metadata": {},
   "outputs": [
    {
     "name": "stdout",
     "output_type": "stream",
     "text": [
      "{\"github_url\": \"https://gist.github.com/Abhishek-03113/11f713d2efac1d5dda217438675fbbe5\", \"contact_email\": \"abhishekpawar3113@gmail.com\", \"solution_language\": \"python\"}\n"
     ]
    }
   ],
   "source": []
  },
  {
   "cell_type": "code",
   "execution_count": null,
   "metadata": {},
   "outputs": [],
   "source": []
  }
 ],
 "metadata": {
  "kernelspec": {
   "display_name": "base",
   "language": "python",
   "name": "python3"
  },
  "language_info": {
   "codemirror_mode": {
    "name": "ipython",
    "version": 3
   },
   "file_extension": ".py",
   "mimetype": "text/x-python",
   "name": "python",
   "nbconvert_exporter": "python",
   "pygments_lexer": "ipython3",
   "version": "3.11.5"
  }
 },
 "nbformat": 4,
 "nbformat_minor": 2
}
